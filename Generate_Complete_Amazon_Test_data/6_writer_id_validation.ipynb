{
 "cells": [
  {
   "cell_type": "markdown",
   "source": [
    "# Validate action_level_novelty writer id\n",
    "\n",
    "- Amazon writer id in total -> 310\n",
    "- KNOWN writer id: max -> 100, min -> 1\n",
    "- UNKNOWN writer id: max -> 310, min -> 101\n",
    "- SHIPPING writer id : max -> 1034, min -> 311\n",
    "- STORY writer id: max -> 1079, min -> 1035"
   ],
   "metadata": {
    "collapsed": false
   }
  },
  {
   "cell_type": "code",
   "execution_count": 21,
   "outputs": [],
   "source": [
    "import json\n",
    "import numpy as np"
   ],
   "metadata": {
    "collapsed": false,
    "pycharm": {
     "name": "#%%\n"
    }
   }
  },
  {
   "cell_type": "code",
   "execution_count": 22,
   "outputs": [],
   "source": [
    "def load_shipping_writer_id_set():\n",
    "    # all the unknown writer are in the shipping review dataset\n",
    "    reviewer_id_stats_file = \"./shipping_review_input/shipping_reviewer_stats.txt\"\n",
    "    unknown_writer_id_set = set()\n",
    "    with open(reviewer_id_stats_file, mode=\"r\") as fin:\n",
    "        for line in fin:\n",
    "            line = line.strip()\n",
    "            parts = line.split()\n",
    "            unknown_writer_id_set.add(parts[0])\n",
    "        # endfor\n",
    "    # endwith\n",
    "    return unknown_writer_id_set\n",
    "\n",
    "\n",
    "def load_story_writer_id_set():\n",
    "    # all the unknown writer are in the shipping review dataset\n",
    "    reviewer_id_stats_file = \"../5_Novelist_Dataset/output/author_to_num_dict.txt\"\n",
    "    unknown_writer_id_set = set()\n",
    "    with open(reviewer_id_stats_file, mode=\"r\") as fin:\n",
    "        for line in fin:\n",
    "            line = line.strip()\n",
    "            parts = line.split()\n",
    "            unknown_writer_id_set.add(parts[0])\n",
    "        # endfor\n",
    "    # endwith\n",
    "    return unknown_writer_id_set"
   ],
   "metadata": {
    "collapsed": false,
    "pycharm": {
     "name": "#%%\n"
    }
   }
  },
  {
   "cell_type": "code",
   "execution_count": 23,
   "metadata": {
    "collapsed": true
   },
   "outputs": [],
   "source": [
    "known_writer_num = 100\n",
    "known_writer_review_num = 40\n",
    "\n",
    "# get all_writer_id_to_num_dict\n",
    "with open(\n",
    "        f\"./output/writer_{known_writer_num}_review_{known_writer_review_num}/writer_id_to_num_mapping_dict.json\",\n",
    "        mode=\"r\") as fin:\n",
    "    all_writer_id_to_num_dict = json.load(fin)\n",
    "# endwith"
   ]
  },
  {
   "cell_type": "code",
   "execution_count": 24,
   "outputs": [
    {
     "name": "stdout",
     "output_type": "stream",
     "text": [
      "All Amazon review writer id size: 310\n"
     ]
    }
   ],
   "source": [
    "print(f\"All Amazon review writer id size: {len(all_writer_id_to_num_dict)}\")"
   ],
   "metadata": {
    "collapsed": false,
    "pycharm": {
     "name": "#%%\n"
    }
   }
  },
  {
   "cell_type": "code",
   "execution_count": 25,
   "outputs": [
    {
     "name": "stdout",
     "output_type": "stream",
     "text": [
      "KNOWN writer id: max -> 100, min -> 1\n",
      "UNKNOWN writer id: max -> 310, min -> 101\n"
     ]
    }
   ],
   "source": [
    "# known writer id set\n",
    "with open(\"./output/writer_100_review_40/known_writer_id_list.json\", mode=\"r\") as fin:\n",
    "    known_writer_list = json.load(fin)\n",
    "#with\n",
    "\n",
    "# unknown writer id set\n",
    "with open(\"./output/writer_100_review_40/unknown_writer_id_list.json\", mode=\"r\") as fin:\n",
    "    unknown_writer_list = json.load(fin)\n",
    "#endwith\n",
    "\n",
    "# ########## known writer ############\n",
    "known_writer_id_set = set()\n",
    "for writer_str in known_writer_list:\n",
    "    known_writer_id_set.add(all_writer_id_to_num_dict[writer_str])\n",
    "#end\n",
    "known_writer_id_arr = np.array(list(known_writer_id_set))\n",
    "print(f\"KNOWN writer id: max -> {np.amax(known_writer_id_arr)}, min -> {np.amin(known_writer_id_arr)}\")\n",
    "\n",
    "# ########## unknown writer ##########\n",
    "unknown_writer_id_set = set()\n",
    "for writer_str in unknown_writer_list:\n",
    "    unknown_writer_id_set.add(all_writer_id_to_num_dict[writer_str])\n",
    "#endfor\n",
    "unknown_writer_id_arr = np.array(list(unknown_writer_id_set))\n",
    "print(f\"UNKNOWN writer id: max -> {np.amax(unknown_writer_id_arr)}, min -> {np.amin(unknown_writer_id_arr)}\")\n"
   ],
   "metadata": {
    "collapsed": false,
    "pycharm": {
     "name": "#%%\n"
    }
   }
  },
  {
   "cell_type": "code",
   "execution_count": 26,
   "outputs": [
    {
     "name": "stdout",
     "output_type": "stream",
     "text": [
      "SHIPPING writer id : max -> 1034, min -> 311\n",
      "STORY writer id: max -> 1079, min -> 1035\n"
     ]
    }
   ],
   "source": [
    "# ####################### add more writer mapping to dict #######################\n",
    "# (1) add writer for shipping service\n",
    "# (2) add writer for story novelist\n",
    "\n",
    "shipping_review_writer_id_set = load_shipping_writer_id_set()\n",
    "story_writer_id_set = load_story_writer_id_set()\n",
    "\n",
    "for tmp_review_id in shipping_review_writer_id_set:\n",
    "    all_writer_id_to_num_dict[tmp_review_id] = len(\n",
    "        all_writer_id_to_num_dict) + 1\n",
    "# endfor\n",
    "\n",
    "for tmp_review_id in story_writer_id_set:\n",
    "    all_writer_id_to_num_dict[tmp_review_id] = len(\n",
    "        all_writer_id_to_num_dict) + 1\n",
    "# endfor\n",
    "\n",
    "\n",
    "# ########## shipping writer range ##########\n",
    "shipping_writer_num_set = set()\n",
    "for writer_str in shipping_review_writer_id_set:\n",
    "    shipping_writer_num_set.add(all_writer_id_to_num_dict[writer_str])\n",
    "#endfor\n",
    "shipping_writer_num_arr = np.array(list(shipping_writer_num_set))\n",
    "print(f\"SHIPPING writer id : max -> {np.amax(shipping_writer_num_arr)}, min -> {np.amin(shipping_writer_num_arr)}\")\n",
    "\n",
    "# ########## story writer range ###########\n",
    "story_writer_num_set = set()\n",
    "for writer_str in story_writer_id_set:\n",
    "    story_writer_num_set.add(all_writer_id_to_num_dict[writer_str])\n",
    "#endfor\n",
    "story_writer_num_arr = np.array(list(story_writer_num_set))\n",
    "print(f\"STORY writer id: max -> {np.amax(story_writer_num_arr)}, min -> {np.amin(story_writer_num_arr)}\")\n",
    "\n"
   ],
   "metadata": {
    "collapsed": false,
    "pycharm": {
     "name": "#%%\n"
    }
   }
  },
  {
   "cell_type": "code",
   "execution_count": 26,
   "outputs": [],
   "source": [],
   "metadata": {
    "collapsed": false,
    "pycharm": {
     "name": "#%%\n"
    }
   }
  }
 ],
 "metadata": {
  "kernelspec": {
   "display_name": "Python 3",
   "language": "python",
   "name": "python3"
  },
  "language_info": {
   "codemirror_mode": {
    "name": "ipython",
    "version": 2
   },
   "file_extension": ".py",
   "mimetype": "text/x-python",
   "name": "python",
   "nbconvert_exporter": "python",
   "pygments_lexer": "ipython2",
   "version": "2.7.6"
  }
 },
 "nbformat": 4,
 "nbformat_minor": 0
}