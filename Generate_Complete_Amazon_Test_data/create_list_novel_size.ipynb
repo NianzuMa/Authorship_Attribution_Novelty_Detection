{
 "cells": [
  {
   "cell_type": "markdown",
   "metadata": {
    "collapsed": true,
    "pycharm": {
     "name": "#%% md\n"
    }
   },
   "source": [
    "# Create List Novel Size"
   ]
  },
  {
   "cell_type": "code",
   "execution_count": 10,
   "outputs": [],
   "source": [
    "import numpy as np\n",
    "import scipy\n",
    "from scipy import stats"
   ],
   "metadata": {
    "collapsed": false,
    "pycharm": {
     "name": "#%%\n"
    }
   }
  },
  {
   "cell_type": "code",
   "execution_count": null,
   "outputs": [],
   "source": [
    "def create_list_novel_sizes(cfg, sp, red_light_batch_index):\n",
    "    \"\"\"\n",
    "        Use beta distribution to determine where novel examples appear.\n",
    "\n",
    "    Returns: list x corresponding to the novel batches, where x[i] is the number of novel examples\n",
    "     for the i^th batch (where i is the index into the list of novel batches, length(x) = number of novel batches)\n",
    "\n",
    "     \"beta_dist_params\": {\n",
    "        \"low\": [1.2,1.8],\n",
    "        \"mid\": [2,2],\n",
    "        \"high\": [1.8,1.2],\n",
    "        \"flat\": [1,1]\n",
    "    }\n",
    "\n",
    "    \"\"\"\n",
    "    distparams = cfg[\"beta_dist_params\"][sp[\"dist_type\"]]\n",
    "\n",
    "    n_batch_novel = int((cfg[\"batch_number\"] - red_light_batch_index) * sp[\"prop_unknown\"])\n",
    "    novel_size = n_batch_novel * cfg[\"batch_size\"]\n",
    "\n",
    "    # Prepare a probability bin for a given novel distribution\n",
    "    bin_prob = np.linspace(0, 1, cfg[\"batch_number\"] - red_light_batch_index + 1).tolist()\n",
    "    list_unknown_sizes = []\n",
    "    for i in range(len(bin_prob) - 1):\n",
    "        list_unknown_sizes.append(\n",
    "            int((scipy.stats.beta.cdf(bin_prob[i + 1], distparams[0], distparams[1], loc=0, scale=1) -\n",
    "                 scipy.stats.beta.cdf(bin_prob[i], distparams[0], distparams[1], loc=0, scale=1)) * novel_size))\n",
    "\n",
    "    list_unknown_sizes = [max(0, min(cfg[\"batch_size\"], i)) for i in list_unknown_sizes]\n",
    "    return list_unknown_sizes"
   ],
   "metadata": {
    "collapsed": false,
    "pycharm": {
     "name": "#%%\n"
    }
   }
  },
  {
   "cell_type": "code",
   "execution_count": 18,
   "outputs": [
    {
     "data": {
      "text/plain": "280"
     },
     "execution_count": 18,
     "metadata": {},
     "output_type": "execute_result"
    }
   ],
   "source": [
    "distparams = [1.2, 1.8]\n",
    "n_batch_novel = int((30 - 6) * 0.3)\n",
    "novel_size = n_batch_novel * 40\n",
    "novel_size"
   ],
   "metadata": {
    "collapsed": false,
    "pycharm": {
     "name": "#%%\n"
    }
   }
  },
  {
   "cell_type": "code",
   "execution_count": 23,
   "outputs": [
    {
     "name": "stdout",
     "output_type": "stream",
     "text": [
      "35\n"
     ]
    },
    {
     "data": {
      "text/plain": "[0.0,\n 0.029411764705882353,\n 0.058823529411764705,\n 0.08823529411764705,\n 0.11764705882352941,\n 0.14705882352941177,\n 0.1764705882352941,\n 0.20588235294117646,\n 0.23529411764705882,\n 0.2647058823529412,\n 0.29411764705882354,\n 0.3235294117647059,\n 0.3529411764705882,\n 0.38235294117647056,\n 0.4117647058823529,\n 0.4411764705882353,\n 0.47058823529411764,\n 0.5,\n 0.5294117647058824,\n 0.5588235294117647,\n 0.5882352941176471,\n 0.6176470588235294,\n 0.6470588235294118,\n 0.6764705882352942,\n 0.7058823529411764,\n 0.7352941176470588,\n 0.7647058823529411,\n 0.7941176470588235,\n 0.8235294117647058,\n 0.8529411764705882,\n 0.8823529411764706,\n 0.9117647058823529,\n 0.9411764705882353,\n 0.9705882352941176,\n 1.0]"
     },
     "execution_count": 23,
     "metadata": {},
     "output_type": "execute_result"
    }
   ],
   "source": [
    "# Prepare a probability bin for a given novel distribution\n",
    "bin_prob = np.linspace(0, 1, 40 - 6 + 1).tolist()\n",
    "print(len(bin_prob))\n",
    "bin_prob"
   ],
   "metadata": {
    "collapsed": false,
    "pycharm": {
     "name": "#%%\n"
    }
   }
  },
  {
   "cell_type": "code",
   "execution_count": 24,
   "outputs": [
    {
     "data": {
      "text/plain": "0.0633750792491789"
     },
     "execution_count": 24,
     "metadata": {},
     "output_type": "execute_result"
    }
   ],
   "source": [
    "cdf_1 = stats.beta.cdf(bin_prob[2], distparams[0], distparams[1], loc=0, scale=1)\n",
    "cdf_1"
   ],
   "metadata": {
    "collapsed": false,
    "pycharm": {
     "name": "#%%\n"
    }
   }
  },
  {
   "cell_type": "code",
   "execution_count": 25,
   "outputs": [
    {
     "data": {
      "text/plain": "0.027951263750381622"
     },
     "execution_count": 25,
     "metadata": {},
     "output_type": "execute_result"
    }
   ],
   "source": [
    "cdf_2 = stats.beta.cdf(bin_prob[1], distparams[0], distparams[1], loc=0, scale=1)\n",
    "cdf_2"
   ],
   "metadata": {
    "collapsed": false,
    "pycharm": {
     "name": "#%%\n"
    }
   }
  },
  {
   "cell_type": "code",
   "execution_count": 26,
   "outputs": [
    {
     "data": {
      "text/plain": "-9.918668339663238"
     },
     "execution_count": 26,
     "metadata": {},
     "output_type": "execute_result"
    }
   ],
   "source": [
    "(cdf_2 - cdf_1) * novel_size"
   ],
   "metadata": {
    "collapsed": false,
    "pycharm": {
     "name": "#%%\n"
    }
   }
  },
  {
   "cell_type": "code",
   "execution_count": 27,
   "outputs": [],
   "source": [
    "list_unknown_sizes = []\n",
    "for i in range(len(bin_prob) - 1):\n",
    "    list_unknown_sizes.append(\n",
    "        int((scipy.stats.beta.cdf(bin_prob[i + 1], distparams[0], distparams[1], loc=0, scale=1) -\n",
    "             scipy.stats.beta.cdf(bin_prob[i], distparams[0], distparams[1], loc=0, scale=1)) * novel_size))\n",
    "\n",
    "list_unknown_sizes = [max(0, min(30, i)) for i in list_unknown_sizes]"
   ],
   "metadata": {
    "collapsed": false,
    "pycharm": {
     "name": "#%%\n"
    }
   }
  },
  {
   "cell_type": "code",
   "execution_count": 28,
   "outputs": [
    {
     "name": "stdout",
     "output_type": "stream",
     "text": [
      "34\n"
     ]
    }
   ],
   "source": [
    "print(len(list_unknown_sizes))"
   ],
   "metadata": {
    "collapsed": false,
    "pycharm": {
     "name": "#%%\n"
    }
   }
  },
  {
   "cell_type": "code",
   "execution_count": null,
   "outputs": [],
   "source": [],
   "metadata": {
    "collapsed": false,
    "pycharm": {
     "name": "#%%\n"
    }
   }
  }
 ],
 "metadata": {
  "kernelspec": {
   "display_name": "Python 3",
   "language": "python",
   "name": "python3"
  },
  "language_info": {
   "codemirror_mode": {
    "name": "ipython",
    "version": 2
   },
   "file_extension": ".py",
   "mimetype": "text/x-python",
   "name": "python",
   "nbconvert_exporter": "python",
   "pygments_lexer": "ipython2",
   "version": "2.7.6"
  }
 },
 "nbformat": 4,
 "nbformat_minor": 0
}