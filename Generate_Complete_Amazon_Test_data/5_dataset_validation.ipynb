{
 "cells": [
  {
   "cell_type": "code",
   "execution_count": 103,
   "metadata": {},
   "outputs": [],
   "source": [
    "import pandas as pd\n",
    "import os\n",
    "from tqdm import tqdm\n",
    "import json"
   ]
  },
  {
   "cell_type": "code",
   "execution_count": 104,
   "metadata": {},
   "outputs": [],
   "source": [
    "def load_dataset_as_df(file_path):\n",
    "    df = pd.read_csv(file_path, delimiter=\",\", quotechar=\"|\", encoding=\"utf16\")\n",
    "    return df"
   ]
  },
  {
   "cell_type": "code",
   "execution_count": 105,
   "metadata": {},
   "outputs": [
    {
     "name": "stderr",
     "output_type": "stream",
     "text": [
      "all files: 100%|██████████| 432/432 [00:08<00:00, 51.61it/s]"
     ]
    },
    {
     "name": "stdout",
     "output_type": "stream",
     "text": [
      "0\n"
     ]
    },
    {
     "name": "stderr",
     "output_type": "stream",
     "text": [
      "\n"
     ]
    }
   ],
   "source": [
    "# validate all files\n",
    "folder = \"./output_action_level/writer_100_review_40_v5/submit\"\n",
    "\n",
    "writer_id_wrong_file_path_list = []\n",
    "\n",
    "for root, subdir, file_list in os.walk(folder):\n",
    "    for file_name in tqdm(file_list, desc=\"all files\"):\n",
    "\n",
    "        if file_name.endswith(\".json\"):\n",
    "            continue\n",
    "        #endif\n",
    "\n",
    "        ## load metadata\n",
    "        metadata_file_name = file_name.replace(\"_single_df.csv\", \"_metadata.json\")\n",
    "        metadata_file_path = os.path.join(folder, metadata_file_name)\n",
    "        with open(metadata_file_path, mode=\"r\", encoding=\"utf16\") as fin:\n",
    "            metadata_json_obj = json.load(fin)\n",
    "        #endwith\n",
    "        difficulty_mode = metadata_json_obj[\"difficulty\"]\n",
    "\n",
    "\n",
    "        file_path = os.path.join(root, file_name)\n",
    "        df = load_dataset_as_df(file_path)\n",
    "        result_1 = df[(df['novel_instance']==0) & (df['real_writer_id'] > 100)]\n",
    "        result_2 = df[(df['novel_instance']==1) & (df['real_writer_id'] < 100)]\n",
    "        \n",
    "        # if len(result_1) > 0 or len(result_2) > 0:\n",
    "        #     print(f\"1, 2 --> {file_path}\")\n",
    "\n",
    "\n",
    "\n",
    "        # ######### for action_level_novelty the novelty should only come from the story dataset ########\n",
    "\n",
    "        # Amazon writer id in total -> 310\n",
    "        # KNOWN writer id: max -> 100, min -> 1\n",
    "        # UNKNOWN writer id: max -> 310, min -> 101      ---> should be 0\n",
    "        # SHIPPING writer id : max -> 1034, min -> 311   ---> should be 0\n",
    "        # STORY writer id: max -> 1079, min -> 1035\n",
    "\n",
    "        result_3 = df[(df['novel_instance']==1) & (101 <= df['real_writer_id']) & (df['real_writer_id'] <= 310 )]\n",
    "        result_4 = df[(df['novel_instance']==1) & (311 <= df['real_writer_id']) & (df['real_writer_id'] <= 1034)]\n",
    "\n",
    "        result_5 = df[(df['novel_instance']==1) & (1035 <= df['real_writer_id']) & (df['real_writer_id'] <= 1079)]\n",
    "\n",
    "        if len(result_3) > 0 or len(result_4) > 0:\n",
    "            writer_id_wrong_file_path_list.append(file_path)\n",
    "            #print(file_path)\n",
    "        #endif\n",
    "\n",
    "        for index, row in result_5.iterrows():\n",
    "            text = row[\"text\"]\n",
    "            text_len = len(text.strip().split())\n",
    "            if difficulty_mode == \"hard\":\n",
    "                try:\n",
    "                    assert text_len >= 100 and text_len <= 150\n",
    "                except:\n",
    "                    print(f\"easy: {text_len}\")\n",
    "\n",
    "\n",
    "            if difficulty_mode == \"easy\":\n",
    "                try:\n",
    "                    assert text_len >= 200 and text_len <= 300\n",
    "                except:\n",
    "                    print(f\"hard: {text_len}\")\n",
    "\n",
    "\n",
    "\n",
    "\n",
    "print(len(writer_id_wrong_file_path_list))\n",
    "\n"
   ]
  },
  {
   "cell_type": "code",
   "execution_count": 105,
   "metadata": {},
   "outputs": [],
   "source": []
  }
 ],
 "metadata": {
  "interpreter": {
   "hash": "3163820cb05a1638c106be412376f4b22fef14153e262bbca2cf1c968bd27db8"
  },
  "kernelspec": {
   "display_name": "Python 3.7.10 64-bit ('gat_reason': conda)",
   "language": "python",
   "name": "python3"
  },
  "language_info": {
   "codemirror_mode": {
    "name": "ipython",
    "version": 3
   },
   "file_extension": ".py",
   "mimetype": "text/x-python",
   "name": "python",
   "nbconvert_exporter": "python",
   "pygments_lexer": "ipython3",
   "version": "3.7.10"
  },
  "orig_nbformat": 4
 },
 "nbformat": 4,
 "nbformat_minor": 2
}